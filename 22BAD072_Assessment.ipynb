{
  "nbformat": 4,
  "nbformat_minor": 0,
  "metadata": {
    "colab": {
      "provenance": []
    },
    "kernelspec": {
      "name": "python3",
      "display_name": "Python 3"
    },
    "language_info": {
      "name": "python"
    }
  },
  "cells": [
    {
      "cell_type": "code",
      "execution_count": 1,
      "metadata": {
        "colab": {
          "base_uri": "https://localhost:8080/"
        },
        "id": "y5oZLRWmp26d",
        "outputId": "a9ff4a2e-957e-441e-95e9-2540b78e15d9"
      },
      "outputs": [
        {
          "output_type": "stream",
          "name": "stdout",
          "text": [
            "23\n"
          ]
        }
      ],
      "source": [
        "#Question 1\n",
        "def sum_of_multiples(n):\n",
        "    if n < 0:\n",
        "        return 0\n",
        "    return sum(x for x in range(n) if x % 3 == 0 or x % 5 == 0)\n",
        "\n",
        "print(sum_of_multiples(10))\n"
      ]
    },
    {
      "cell_type": "code",
      "source": [
        "#Question 2\n",
        "import re\n",
        "\n",
        "def to_camel_case(text):\n",
        "    words = re.split('[-_]', text)\n",
        "    return words[0] + ''.join(word.capitalize() for word in words[1:]) if words else ''\n",
        "\n",
        "print(to_camel_case(\"the-stealth-warrior\"))\n",
        "print(to_camel_case(\"The_Stealth_Warrior\"))\n",
        "print(to_camel_case(\"The_Stealth-Warrior\"))\n",
        "print(to_camel_case(\"\"))"
      ],
      "metadata": {
        "colab": {
          "base_uri": "https://localhost:8080/"
        },
        "id": "fL78MgYwp-aq",
        "outputId": "b3ed72af-4e56-4619-a8b5-0c0568da1c38"
      },
      "execution_count": 2,
      "outputs": [
        {
          "output_type": "stream",
          "name": "stdout",
          "text": [
            "theStealthWarrior\n",
            "TheStealthWarrior\n",
            "TheStealthWarrior\n",
            "\n"
          ]
        }
      ]
    },
    {
      "cell_type": "code",
      "source": [
        "#Question 3\n",
        "def remove_vowels(s):\n",
        "    return ''.join(char for char in s if char.lower() not in \"aeiou\")\n",
        "\n",
        "print(remove_vowels(\"This website is for losers LOL!\"))\n"
      ],
      "metadata": {
        "colab": {
          "base_uri": "https://localhost:8080/"
        },
        "id": "GsxzQYvqp-mk",
        "outputId": "69363df5-2c2f-4cfb-85d0-21a7eba95811"
      },
      "execution_count": 3,
      "outputs": [
        {
          "output_type": "stream",
          "name": "stdout",
          "text": [
            "Ths wbst s fr lsrs LL!\n"
          ]
        }
      ]
    },
    {
      "cell_type": "code",
      "source": [
        "#Question 4\n",
        "def order(sentence):\n",
        "    return ' '.join(sorted(sentence.split(), key=lambda word: sorted(word)))\n",
        "\n",
        "print(order(\"is2 Thi1s T4est 3a\"))\n",
        "print(order(\"4of Fo1r pe6ople g3ood th5e the2\"))\n",
        "print(order(\"\"))\n"
      ],
      "metadata": {
        "colab": {
          "base_uri": "https://localhost:8080/"
        },
        "id": "xcmW0UVTp-wd",
        "outputId": "41a96830-67f6-4157-c55c-ad0a05b181ed"
      },
      "execution_count": 4,
      "outputs": [
        {
          "output_type": "stream",
          "name": "stdout",
          "text": [
            "Thi1s is2 3a T4est\n",
            "Fo1r the2 g3ood 4of th5e pe6ople\n",
            "\n"
          ]
        }
      ]
    },
    {
      "cell_type": "code",
      "source": [
        "#Question 5\n",
        "def sort_odds(arr):\n",
        "    odds = sorted([num for num in arr if num % 2 != 0])\n",
        "    odd_index = 0\n",
        "\n",
        "    result = []\n",
        "    for num in arr:\n",
        "        if num % 2 != 0:\n",
        "            result.append(odds[odd_index])\n",
        "            odd_index += 1\n",
        "        else:\n",
        "            result.append(num)\n",
        "\n",
        "    return result\n",
        "\n",
        "print(sort_odds([7, 1]))\n",
        "print(sort_odds([5, 8, 6, 3, 4]))\n",
        "print(sort_odds([9, 8, 7, 6, 5, 4, 3, 2, 1, 0]))"
      ],
      "metadata": {
        "colab": {
          "base_uri": "https://localhost:8080/"
        },
        "id": "vzV4eXmxp-54",
        "outputId": "20002b27-a3ba-4cee-8981-f0c4885e4818"
      },
      "execution_count": 5,
      "outputs": [
        {
          "output_type": "stream",
          "name": "stdout",
          "text": [
            "[1, 7]\n",
            "[3, 8, 6, 5, 4]\n",
            "[1, 8, 3, 6, 5, 4, 7, 2, 9, 0]\n"
          ]
        }
      ]
    }
  ]
}